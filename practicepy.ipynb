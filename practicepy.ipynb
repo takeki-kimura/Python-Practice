{
 "cells": [
  {
   "cell_type": "code",
   "execution_count": null,
   "id": "c7e6761b-10e2-489e-b5a5-87ef5fd9e416",
   "metadata": {
    "jupyter": {
     "source_hidden": true
    },
    "tags": []
   },
   "outputs": [],
   "source": []
  },
  {
   "cell_type": "code",
   "execution_count": 3,
   "id": "0b868b92-e8ba-4772-8bfb-6b69bee856aa",
   "metadata": {},
   "outputs": [
    {
     "data": {
      "text/plain": [
       "8"
      ]
     },
     "execution_count": 3,
     "metadata": {},
     "output_type": "execute_result"
    }
   ],
   "source": [
    "x = 3\n",
    "y = 5\n",
    "x + y"
   ]
  },
  {
   "cell_type": "markdown",
   "id": "0f32082d-c234-4d14-a513-2ad430ca075c",
   "metadata": {},
   "source": [
    "### Pytjon超入門 <br>\n",
    "#### JupyterLabをマスターする"
   ]
  },
  {
   "cell_type": "code",
   "execution_count": 4,
   "id": "a85d0a8e-9db6-4f95-abfc-9810b8dd90fd",
   "metadata": {},
   "outputs": [],
   "source": [
    "i = 3"
   ]
  },
  {
   "cell_type": "code",
   "execution_count": 5,
   "id": "377a063e-0993-42ff-bc90-b427731c6a29",
   "metadata": {},
   "outputs": [
    {
     "data": {
      "text/plain": [
       "3"
      ]
     },
     "execution_count": 5,
     "metadata": {},
     "output_type": "execute_result"
    }
   ],
   "source": [
    "i"
   ]
  },
  {
   "cell_type": "code",
   "execution_count": 6,
   "id": "9944925d-63f2-4e34-87bd-b4c383d6e832",
   "metadata": {},
   "outputs": [],
   "source": [
    "j = 0.01"
   ]
  },
  {
   "cell_type": "code",
   "execution_count": 7,
   "id": "108ad2a1-90a5-4b51-882f-ba35f17556d3",
   "metadata": {},
   "outputs": [
    {
     "data": {
      "text/plain": [
       "0.01"
      ]
     },
     "execution_count": 7,
     "metadata": {},
     "output_type": "execute_result"
    }
   ],
   "source": [
    "j"
   ]
  },
  {
   "cell_type": "code",
   "execution_count": 8,
   "id": "2fa79f1c-1886-43cd-a658-4c9caf75d592",
   "metadata": {},
   "outputs": [],
   "source": [
    "k = \"Hello Python\""
   ]
  },
  {
   "cell_type": "code",
   "execution_count": 9,
   "id": "30700403-9098-48af-a1cc-a5f0ab27d59e",
   "metadata": {},
   "outputs": [
    {
     "data": {
      "text/plain": [
       "'Hello Python'"
      ]
     },
     "execution_count": 9,
     "metadata": {},
     "output_type": "execute_result"
    }
   ],
   "source": [
    "k"
   ]
  },
  {
   "cell_type": "code",
   "execution_count": 11,
   "id": "b937f3ea-91d5-4883-bac2-448f208195e7",
   "metadata": {},
   "outputs": [],
   "source": [
    "i_0 = 2"
   ]
  },
  {
   "cell_type": "code",
   "execution_count": 12,
   "id": "1f6e56da-1c8d-4c23-8565-9a33f34446ec",
   "metadata": {},
   "outputs": [],
   "source": [
    "I_0 = 3"
   ]
  },
  {
   "cell_type": "code",
   "execution_count": 13,
   "id": "ac79c0d7-aa3f-453d-812d-3abb6eabfd27",
   "metadata": {},
   "outputs": [
    {
     "data": {
      "text/plain": [
       "2"
      ]
     },
     "execution_count": 13,
     "metadata": {},
     "output_type": "execute_result"
    }
   ],
   "source": [
    "i_0"
   ]
  },
  {
   "cell_type": "code",
   "execution_count": 14,
   "id": "2eb2bba2-1fa4-4222-92ee-5063f883d05a",
   "metadata": {},
   "outputs": [
    {
     "data": {
      "text/plain": [
       "3"
      ]
     },
     "execution_count": 14,
     "metadata": {},
     "output_type": "execute_result"
    }
   ],
   "source": [
    "I_0"
   ]
  },
  {
   "cell_type": "code",
   "execution_count": 15,
   "id": "0129f8b4-d547-4301-9389-d8096864ac34",
   "metadata": {},
   "outputs": [
    {
     "ename": "SyntaxError",
     "evalue": "invalid syntax (<ipython-input-15-57d859500dbf>, line 1)",
     "output_type": "error",
     "traceback": [
      "\u001b[0;36m  File \u001b[0;32m\"<ipython-input-15-57d859500dbf>\"\u001b[0;36m, line \u001b[0;32m1\u001b[0m\n\u001b[0;31m    1num = 5\u001b[0m\n\u001b[0m     ^\u001b[0m\n\u001b[0;31mSyntaxError\u001b[0m\u001b[0;31m:\u001b[0m invalid syntax\n"
     ]
    }
   ],
   "source": [
    "1num = 5"
   ]
  },
  {
   "cell_type": "code",
   "execution_count": 16,
   "id": "8ae2ee18-05a0-4102-98ab-5da58cc78200",
   "metadata": {},
   "outputs": [
    {
     "ename": "SyntaxError",
     "evalue": "cannot assign to operator (<ipython-input-16-a2ce3bb11ff3>, line 1)",
     "output_type": "error",
     "traceback": [
      "\u001b[0;36m  File \u001b[0;32m\"<ipython-input-16-a2ce3bb11ff3>\"\u001b[0;36m, line \u001b[0;32m1\u001b[0m\n\u001b[0;31m    num&1 = 5\u001b[0m\n\u001b[0m    ^\u001b[0m\n\u001b[0;31mSyntaxError\u001b[0m\u001b[0;31m:\u001b[0m cannot assign to operator\n"
     ]
    }
   ],
   "source": [
    "num&1 = 5"
   ]
  },
  {
   "cell_type": "code",
   "execution_count": 17,
   "id": "3966812f-3544-4459-8997-5f112eb470fb",
   "metadata": {},
   "outputs": [
    {
     "ename": "SyntaxError",
     "evalue": "invalid syntax (<ipython-input-17-1a9bb92cc795>, line 1)",
     "output_type": "error",
     "traceback": [
      "\u001b[0;36m  File \u001b[0;32m\"<ipython-input-17-1a9bb92cc795>\"\u001b[0;36m, line \u001b[0;32m1\u001b[0m\n\u001b[0;31m    if = 5\u001b[0m\n\u001b[0m       ^\u001b[0m\n\u001b[0;31mSyntaxError\u001b[0m\u001b[0;31m:\u001b[0m invalid syntax\n"
     ]
    }
   ],
   "source": [
    "if = 5"
   ]
  },
  {
   "cell_type": "code",
   "execution_count": 18,
   "id": "3d9a2705-4326-4d8b-84c4-007de9411a1d",
   "metadata": {},
   "outputs": [],
   "source": [
    "import keyword"
   ]
  },
  {
   "cell_type": "code",
   "execution_count": 19,
   "id": "99c33705-3f5c-46c9-8289-39eca322276f",
   "metadata": {},
   "outputs": [
    {
     "data": {
      "text/plain": [
       "['False',\n",
       " 'None',\n",
       " 'True',\n",
       " 'and',\n",
       " 'as',\n",
       " 'assert',\n",
       " 'async',\n",
       " 'await',\n",
       " 'break',\n",
       " 'class',\n",
       " 'continue',\n",
       " 'def',\n",
       " 'del',\n",
       " 'elif',\n",
       " 'else',\n",
       " 'except',\n",
       " 'finally',\n",
       " 'for',\n",
       " 'from',\n",
       " 'global',\n",
       " 'if',\n",
       " 'import',\n",
       " 'in',\n",
       " 'is',\n",
       " 'lambda',\n",
       " 'nonlocal',\n",
       " 'not',\n",
       " 'or',\n",
       " 'pass',\n",
       " 'raise',\n",
       " 'return',\n",
       " 'try',\n",
       " 'while',\n",
       " 'with',\n",
       " 'yield']"
      ]
     },
     "execution_count": 19,
     "metadata": {},
     "output_type": "execute_result"
    }
   ],
   "source": [
    "keyword.kwlist"
   ]
  },
  {
   "cell_type": "code",
   "execution_count": 20,
   "id": "649d53aa-c7d8-444a-9a87-4948fd4777f4",
   "metadata": {},
   "outputs": [],
   "source": [
    "i = 9"
   ]
  },
  {
   "cell_type": "code",
   "execution_count": 21,
   "id": "9e606aa2-89f1-4087-acba-6c88b413d8a8",
   "metadata": {},
   "outputs": [
    {
     "data": {
      "text/plain": [
       "int"
      ]
     },
     "execution_count": 21,
     "metadata": {},
     "output_type": "execute_result"
    }
   ],
   "source": [
    "type(i)"
   ]
  },
  {
   "cell_type": "code",
   "execution_count": 22,
   "id": "0311f46f-e13b-43a8-b20c-672678a1e5ff",
   "metadata": {},
   "outputs": [],
   "source": [
    "j = 'Hello'"
   ]
  },
  {
   "cell_type": "code",
   "execution_count": 23,
   "id": "309d55c4-5120-4627-931a-636b78c46bb4",
   "metadata": {},
   "outputs": [
    {
     "data": {
      "text/plain": [
       "str"
      ]
     },
     "execution_count": 23,
     "metadata": {},
     "output_type": "execute_result"
    }
   ],
   "source": [
    "type(j)"
   ]
  },
  {
   "cell_type": "code",
   "execution_count": 24,
   "id": "d5112538-9370-4312-b5c5-ae3b860f622a",
   "metadata": {},
   "outputs": [],
   "source": [
    "k = True"
   ]
  },
  {
   "cell_type": "code",
   "execution_count": 25,
   "id": "fa22818d-d079-4edd-aa24-4ec5141f4333",
   "metadata": {},
   "outputs": [
    {
     "data": {
      "text/plain": [
       "bool"
      ]
     },
     "execution_count": 25,
     "metadata": {},
     "output_type": "execute_result"
    }
   ],
   "source": [
    "type(k)"
   ]
  },
  {
   "cell_type": "code",
   "execution_count": 26,
   "id": "c237599c-a8dd-47cf-909d-801c9fc8be0b",
   "metadata": {},
   "outputs": [],
   "source": [
    "i = 5"
   ]
  },
  {
   "cell_type": "code",
   "execution_count": 27,
   "id": "d8b7e4ba-c014-4080-8702-26f2f207dc1f",
   "metadata": {},
   "outputs": [],
   "source": [
    "j = 0.01"
   ]
  },
  {
   "cell_type": "code",
   "execution_count": 28,
   "id": "629c0432-1617-45e2-8800-1c1522d52771",
   "metadata": {},
   "outputs": [
    {
     "data": {
      "text/plain": [
       "int"
      ]
     },
     "execution_count": 28,
     "metadata": {},
     "output_type": "execute_result"
    }
   ],
   "source": [
    "type(i)"
   ]
  },
  {
   "cell_type": "code",
   "execution_count": 29,
   "id": "b3cc8c7a-78e5-4c9a-8daf-e83d7549ff89",
   "metadata": {},
   "outputs": [
    {
     "data": {
      "text/plain": [
       "float"
      ]
     },
     "execution_count": 29,
     "metadata": {},
     "output_type": "execute_result"
    }
   ],
   "source": [
    "type(j)"
   ]
  },
  {
   "cell_type": "code",
   "execution_count": 30,
   "id": "157af073-dacb-4ea5-be39-3574dc577d4b",
   "metadata": {},
   "outputs": [],
   "source": [
    "string_01 = \"Hello Python\""
   ]
  },
  {
   "cell_type": "code",
   "execution_count": 31,
   "id": "ea0512f0-9f05-4847-a0ff-b0b3358c26d3",
   "metadata": {},
   "outputs": [
    {
     "data": {
      "text/plain": [
       "'Hello Python'"
      ]
     },
     "execution_count": 31,
     "metadata": {},
     "output_type": "execute_result"
    }
   ],
   "source": [
    "string_01"
   ]
  },
  {
   "cell_type": "code",
   "execution_count": 32,
   "id": "9719e3d5-e12e-4b08-9783-5f3d85503307",
   "metadata": {},
   "outputs": [
    {
     "data": {
      "text/plain": [
       "str"
      ]
     },
     "execution_count": 32,
     "metadata": {},
     "output_type": "execute_result"
    }
   ],
   "source": [
    "type(string_01)"
   ]
  },
  {
   "cell_type": "code",
   "execution_count": 33,
   "id": "048b049f-40f1-45d3-b96f-9ddcd4767a73",
   "metadata": {},
   "outputs": [],
   "source": [
    "string_02 = \"I love Python\""
   ]
  },
  {
   "cell_type": "code",
   "execution_count": 34,
   "id": "602c1d41-fad8-4f7d-976c-d55bdf6e58b1",
   "metadata": {},
   "outputs": [
    {
     "data": {
      "text/plain": [
       "'We love Python'"
      ]
     },
     "execution_count": 34,
     "metadata": {},
     "output_type": "execute_result"
    }
   ],
   "source": [
    "string_02.replace(\"I\", \"We\")"
   ]
  },
  {
   "cell_type": "code",
   "execution_count": 35,
   "id": "a8e6e3f3-7ea8-409c-a970-63eb45408ae1",
   "metadata": {},
   "outputs": [],
   "source": [
    "string_03 = \"wHello Pythonw\""
   ]
  },
  {
   "cell_type": "code",
   "execution_count": 36,
   "id": "437ba830-02b3-4b15-85fd-578f935b0e1f",
   "metadata": {},
   "outputs": [
    {
     "data": {
      "text/plain": [
       "'Hello Python'"
      ]
     },
     "execution_count": 36,
     "metadata": {},
     "output_type": "execute_result"
    }
   ],
   "source": [
    "string_03.strip(\"w\")"
   ]
  },
  {
   "cell_type": "code",
   "execution_count": 37,
   "id": "d5e39f7e-c288-4152-96d9-3506640fc933",
   "metadata": {},
   "outputs": [],
   "source": [
    "string_03 = \"wHello Pythonw\""
   ]
  },
  {
   "cell_type": "code",
   "execution_count": 38,
   "id": "e929fa0f-ab6a-423f-bc6d-ad2bafef1c42",
   "metadata": {},
   "outputs": [
    {
     "data": {
      "text/plain": [
       "'Hello Pythonw'"
      ]
     },
     "execution_count": 38,
     "metadata": {},
     "output_type": "execute_result"
    }
   ],
   "source": [
    "string_03.lstrip(\"w\")"
   ]
  },
  {
   "cell_type": "code",
   "execution_count": 39,
   "id": "9e111d4d-a65f-4c82-943f-53bc503fd5bb",
   "metadata": {},
   "outputs": [],
   "source": [
    "string_03 = \"wHello Pythonw\""
   ]
  },
  {
   "cell_type": "code",
   "execution_count": 40,
   "id": "cc47740d-396f-4f50-8fb6-314da06f4de3",
   "metadata": {},
   "outputs": [
    {
     "data": {
      "text/plain": [
       "'wHello Python'"
      ]
     },
     "execution_count": 40,
     "metadata": {},
     "output_type": "execute_result"
    }
   ],
   "source": [
    "string_03.rstrip(\"w\")"
   ]
  },
  {
   "cell_type": "code",
   "execution_count": 41,
   "id": "b0b18681-0ef8-4a38-a2e8-4f7e0cc050a9",
   "metadata": {},
   "outputs": [],
   "source": [
    "x = 5\n",
    "y = 10"
   ]
  },
  {
   "cell_type": "code",
   "execution_count": 42,
   "id": "eeeaabf8-984f-469d-815a-7de855a421cb",
   "metadata": {},
   "outputs": [
    {
     "data": {
      "text/plain": [
       "True"
      ]
     },
     "execution_count": 42,
     "metadata": {},
     "output_type": "execute_result"
    }
   ],
   "source": [
    "x < y"
   ]
  },
  {
   "cell_type": "code",
   "execution_count": 43,
   "id": "6f9758f3-620f-434b-ae1d-941a0cac3442",
   "metadata": {},
   "outputs": [
    {
     "data": {
      "text/plain": [
       "False"
      ]
     },
     "execution_count": 43,
     "metadata": {},
     "output_type": "execute_result"
    }
   ],
   "source": [
    "x > y"
   ]
  },
  {
   "cell_type": "code",
   "execution_count": 44,
   "id": "afa01eab-3cea-48d9-b956-d0949aa75bb9",
   "metadata": {},
   "outputs": [],
   "source": [
    "b1 = True\n",
    "b2 = False"
   ]
  },
  {
   "cell_type": "code",
   "execution_count": 45,
   "id": "35446f67-b3ed-4840-867d-f1ebef69c82e",
   "metadata": {},
   "outputs": [
    {
     "data": {
      "text/plain": [
       "False"
      ]
     },
     "execution_count": 45,
     "metadata": {},
     "output_type": "execute_result"
    }
   ],
   "source": [
    "b2"
   ]
  },
  {
   "cell_type": "code",
   "execution_count": 46,
   "id": "05866b99-6fb1-4892-8ea4-78591964829b",
   "metadata": {},
   "outputs": [
    {
     "data": {
      "text/plain": [
       "1"
      ]
     },
     "execution_count": 46,
     "metadata": {},
     "output_type": "execute_result"
    }
   ],
   "source": [
    "int(b1)"
   ]
  },
  {
   "cell_type": "code",
   "execution_count": 47,
   "id": "2f93fa74-6e85-4fee-a5f1-55cef106570f",
   "metadata": {},
   "outputs": [
    {
     "data": {
      "text/plain": [
       "0"
      ]
     },
     "execution_count": 47,
     "metadata": {},
     "output_type": "execute_result"
    }
   ],
   "source": [
    "int(b2)"
   ]
  },
  {
   "cell_type": "code",
   "execution_count": 48,
   "id": "d33b6fec-dddd-4c25-bffa-f5af2e7704e9",
   "metadata": {},
   "outputs": [],
   "source": [
    "c = \"True\""
   ]
  },
  {
   "cell_type": "code",
   "execution_count": 49,
   "id": "59ae31cb-ad9c-4b3c-98ac-5a9ea2e51033",
   "metadata": {},
   "outputs": [
    {
     "ename": "ValueError",
     "evalue": "invalid literal for int() with base 10: 'True'",
     "output_type": "error",
     "traceback": [
      "\u001b[0;31m---------------------------------------------------------------------------\u001b[0m",
      "\u001b[0;31mValueError\u001b[0m                                Traceback (most recent call last)",
      "\u001b[0;32m<ipython-input-49-089eb950f64f>\u001b[0m in \u001b[0;36m<module>\u001b[0;34m\u001b[0m\n\u001b[0;32m----> 1\u001b[0;31m \u001b[0mint\u001b[0m\u001b[0;34m(\u001b[0m\u001b[0mc\u001b[0m\u001b[0;34m)\u001b[0m\u001b[0;34m\u001b[0m\u001b[0;34m\u001b[0m\u001b[0m\n\u001b[0m",
      "\u001b[0;31mValueError\u001b[0m: invalid literal for int() with base 10: 'True'"
     ]
    }
   ],
   "source": [
    "int(c)"
   ]
  },
  {
   "cell_type": "code",
   "execution_count": 50,
   "id": "04092e6a-75ca-42a1-9fca-da871dd70ac2",
   "metadata": {},
   "outputs": [],
   "source": [
    "a = [1, 2, 3]"
   ]
  },
  {
   "cell_type": "code",
   "execution_count": 51,
   "id": "0a19b4a6-696d-4f9f-9f59-c76d005e94bd",
   "metadata": {},
   "outputs": [
    {
     "data": {
      "text/plain": [
       "[1, 2, 3]"
      ]
     },
     "execution_count": 51,
     "metadata": {},
     "output_type": "execute_result"
    }
   ],
   "source": [
    "a"
   ]
  },
  {
   "cell_type": "code",
   "execution_count": 52,
   "id": "6776e8e2-1323-4f84-a1f7-bce555799e39",
   "metadata": {},
   "outputs": [
    {
     "data": {
      "text/plain": [
       "1"
      ]
     },
     "execution_count": 52,
     "metadata": {},
     "output_type": "execute_result"
    }
   ],
   "source": [
    "a[0]"
   ]
  },
  {
   "cell_type": "code",
   "execution_count": 53,
   "id": "be99431c-84ec-41ca-b86f-9ece880df230",
   "metadata": {},
   "outputs": [],
   "source": [
    "b = [\"apple\", \"banana\", \"cherry\"]"
   ]
  },
  {
   "cell_type": "code",
   "execution_count": 54,
   "id": "9aa66c41-aaf8-4d88-b443-3be4fd229cf4",
   "metadata": {},
   "outputs": [
    {
     "data": {
      "text/plain": [
       "['apple', 'banana', 'cherry']"
      ]
     },
     "execution_count": 54,
     "metadata": {},
     "output_type": "execute_result"
    }
   ],
   "source": [
    "b"
   ]
  },
  {
   "cell_type": "code",
   "execution_count": 55,
   "id": "46ffea23-6725-4a0f-be7a-55c82dfdace7",
   "metadata": {},
   "outputs": [
    {
     "data": {
      "text/plain": [
       "'cherry'"
      ]
     },
     "execution_count": 55,
     "metadata": {},
     "output_type": "execute_result"
    }
   ],
   "source": [
    "b[2]"
   ]
  },
  {
   "cell_type": "code",
   "execution_count": 56,
   "id": "1df0224a-0458-4d69-9946-e1f36db90f7d",
   "metadata": {},
   "outputs": [],
   "source": [
    "c = [1, \"apple\", True]"
   ]
  },
  {
   "cell_type": "code",
   "execution_count": 57,
   "id": "ef6c9a9f-881a-43e5-8e60-044261d0e4c4",
   "metadata": {},
   "outputs": [
    {
     "data": {
      "text/plain": [
       "[1, 'apple', True]"
      ]
     },
     "execution_count": 57,
     "metadata": {},
     "output_type": "execute_result"
    }
   ],
   "source": [
    "c"
   ]
  },
  {
   "cell_type": "code",
   "execution_count": 58,
   "id": "495533a1-91bf-49c3-8882-8a3ab85a40ef",
   "metadata": {},
   "outputs": [
    {
     "data": {
      "text/plain": [
       "'apple'"
      ]
     },
     "execution_count": 58,
     "metadata": {},
     "output_type": "execute_result"
    }
   ],
   "source": [
    "c[1]"
   ]
  },
  {
   "cell_type": "code",
   "execution_count": 59,
   "id": "90453435-9c7b-4257-8041-54dd00aa45b6",
   "metadata": {},
   "outputs": [],
   "source": [
    "d = []"
   ]
  },
  {
   "cell_type": "code",
   "execution_count": 60,
   "id": "d2b80ff4-8df3-4f5e-874e-27bd2c270bf6",
   "metadata": {},
   "outputs": [
    {
     "data": {
      "text/plain": [
       "[]"
      ]
     },
     "execution_count": 60,
     "metadata": {},
     "output_type": "execute_result"
    }
   ],
   "source": [
    "d"
   ]
  },
  {
   "cell_type": "code",
   "execution_count": 61,
   "id": "d1872c59-d2dc-42b4-a555-ff6e3e6bf198",
   "metadata": {},
   "outputs": [],
   "source": [
    "d.append(\"test1\")"
   ]
  },
  {
   "cell_type": "code",
   "execution_count": 62,
   "id": "6c5bfa51-4ab6-4870-a026-b62330c460a1",
   "metadata": {},
   "outputs": [
    {
     "data": {
      "text/plain": [
       "['test1']"
      ]
     },
     "execution_count": 62,
     "metadata": {},
     "output_type": "execute_result"
    }
   ],
   "source": [
    "d"
   ]
  },
  {
   "cell_type": "code",
   "execution_count": 63,
   "id": "b1d2827c-7dd0-49d7-be4d-a9a47c10c4a7",
   "metadata": {},
   "outputs": [],
   "source": [
    "d.append(\"test2\")"
   ]
  },
  {
   "cell_type": "code",
   "execution_count": 64,
   "id": "7b11ef1a-b3f6-44d5-8ceb-440b86d88624",
   "metadata": {},
   "outputs": [
    {
     "data": {
      "text/plain": [
       "['test1', 'test2']"
      ]
     },
     "execution_count": 64,
     "metadata": {},
     "output_type": "execute_result"
    }
   ],
   "source": [
    "d"
   ]
  },
  {
   "cell_type": "code",
   "execution_count": 65,
   "id": "5eb07ffd-79b3-45be-980d-16720b29a47b",
   "metadata": {},
   "outputs": [],
   "source": [
    "d.insert(0, \"テスト\")"
   ]
  },
  {
   "cell_type": "code",
   "execution_count": 66,
   "id": "cf27a810-9f02-4cfa-ad2f-9863454f601f",
   "metadata": {},
   "outputs": [
    {
     "data": {
      "text/plain": [
       "['テスト', 'test1', 'test2']"
      ]
     },
     "execution_count": 66,
     "metadata": {},
     "output_type": "execute_result"
    }
   ],
   "source": [
    "d"
   ]
  },
  {
   "cell_type": "code",
   "execution_count": 67,
   "id": "e97d3ede-8a91-4c5c-8d2e-d0e0560137a0",
   "metadata": {},
   "outputs": [],
   "source": [
    "e = [[\"apple\", \"banana\"], [\"cherry\", \"pear\"]]"
   ]
  },
  {
   "cell_type": "code",
   "execution_count": 68,
   "id": "bfa16cff-20b2-4d8a-86fa-1f6e7911def2",
   "metadata": {},
   "outputs": [
    {
     "data": {
      "text/plain": [
       "[['apple', 'banana'], ['cherry', 'pear']]"
      ]
     },
     "execution_count": 68,
     "metadata": {},
     "output_type": "execute_result"
    }
   ],
   "source": [
    "e"
   ]
  },
  {
   "cell_type": "code",
   "execution_count": 69,
   "id": "0b28eb50-3d5e-46ef-9e84-b909e85db289",
   "metadata": {},
   "outputs": [
    {
     "data": {
      "text/plain": [
       "['apple', 'banana']"
      ]
     },
     "execution_count": 69,
     "metadata": {},
     "output_type": "execute_result"
    }
   ],
   "source": [
    "e[0]"
   ]
  },
  {
   "cell_type": "code",
   "execution_count": 70,
   "id": "fc738b40-ee16-4878-960a-d1ae37b57784",
   "metadata": {},
   "outputs": [
    {
     "data": {
      "text/plain": [
       "'apple'"
      ]
     },
     "execution_count": 70,
     "metadata": {},
     "output_type": "execute_result"
    }
   ],
   "source": [
    "e[0][0]"
   ]
  },
  {
   "cell_type": "code",
   "execution_count": 1,
   "id": "66f5b8b0-c26b-4799-8007-d4614fa09697",
   "metadata": {},
   "outputs": [],
   "source": [
    "x = 15\n",
    "y = 3"
   ]
  },
  {
   "cell_type": "code",
   "execution_count": 2,
   "id": "06bec5eb-1aaa-4756-aab3-6345c71a059f",
   "metadata": {},
   "outputs": [
    {
     "data": {
      "text/plain": [
       "18"
      ]
     },
     "execution_count": 2,
     "metadata": {},
     "output_type": "execute_result"
    }
   ],
   "source": [
    "x + y"
   ]
  },
  {
   "cell_type": "code",
   "execution_count": 3,
   "id": "421d39ba-97db-456b-a23c-2932d97f20af",
   "metadata": {},
   "outputs": [
    {
     "data": {
      "text/plain": [
       "12"
      ]
     },
     "execution_count": 3,
     "metadata": {},
     "output_type": "execute_result"
    }
   ],
   "source": [
    "x - y"
   ]
  },
  {
   "cell_type": "code",
   "execution_count": 4,
   "id": "32dac8b7-5052-44ce-b191-8875aa161981",
   "metadata": {},
   "outputs": [
    {
     "data": {
      "text/plain": [
       "45"
      ]
     },
     "execution_count": 4,
     "metadata": {},
     "output_type": "execute_result"
    }
   ],
   "source": [
    "x * y"
   ]
  },
  {
   "cell_type": "code",
   "execution_count": 5,
   "id": "bb7c496b-4631-4626-be56-b0072278e005",
   "metadata": {},
   "outputs": [
    {
     "data": {
      "text/plain": [
       "5.0"
      ]
     },
     "execution_count": 5,
     "metadata": {},
     "output_type": "execute_result"
    }
   ],
   "source": [
    "x / y"
   ]
  },
  {
   "cell_type": "code",
   "execution_count": 6,
   "id": "22a3949f-259e-4e41-a81a-8b9f383a1018",
   "metadata": {},
   "outputs": [
    {
     "data": {
      "text/plain": [
       "0"
      ]
     },
     "execution_count": 6,
     "metadata": {},
     "output_type": "execute_result"
    }
   ],
   "source": [
    "x % y"
   ]
  },
  {
   "cell_type": "code",
   "execution_count": 7,
   "id": "bf627b01-d61b-48bf-abb2-5dd6a3e412eb",
   "metadata": {},
   "outputs": [
    {
     "name": "stdout",
     "output_type": "stream",
     "text": [
      "18\n"
     ]
    }
   ],
   "source": [
    "x = 8\n",
    "x = x + 10\n",
    "print(x)"
   ]
  },
  {
   "cell_type": "code",
   "execution_count": 8,
   "id": "ca3310bf-ec47-4782-91c4-595cd3225d75",
   "metadata": {},
   "outputs": [
    {
     "name": "stdout",
     "output_type": "stream",
     "text": [
      "18\n"
     ]
    }
   ],
   "source": [
    "x = 8\n",
    "x += 10\n",
    "print(x)"
   ]
  },
  {
   "cell_type": "code",
   "execution_count": 9,
   "id": "c7b1bd50-7422-435b-8225-f2142a41f777",
   "metadata": {},
   "outputs": [
    {
     "name": "stdout",
     "output_type": "stream",
     "text": [
      "6\n"
     ]
    }
   ],
   "source": [
    "x = 13\n",
    "x -= 7\n",
    "print(x)"
   ]
  },
  {
   "cell_type": "code",
   "execution_count": 11,
   "id": "9becfac4-d807-45d7-882a-b7c921559de3",
   "metadata": {},
   "outputs": [
    {
     "name": "stdout",
     "output_type": "stream",
     "text": [
      "91\n"
     ]
    }
   ],
   "source": [
    "x = 13\n",
    "x *= 7\n",
    "print(x)"
   ]
  },
  {
   "cell_type": "code",
   "execution_count": 12,
   "id": "92ff9bf6-f084-4311-9769-8cf84383f05a",
   "metadata": {},
   "outputs": [
    {
     "name": "stdout",
     "output_type": "stream",
     "text": [
      "1.8571428571428572\n"
     ]
    }
   ],
   "source": [
    "x = 13\n",
    "x /= 7\n",
    "print(x)"
   ]
  },
  {
   "cell_type": "code",
   "execution_count": 13,
   "id": "8e1f6a84-da25-40d1-b3a3-5c66739691f2",
   "metadata": {},
   "outputs": [],
   "source": [
    "x = 10\n",
    "y = 7"
   ]
  },
  {
   "cell_type": "code",
   "execution_count": 14,
   "id": "a5f7da7f-7aed-4a86-a764-5857ca2a26e5",
   "metadata": {},
   "outputs": [
    {
     "data": {
      "text/plain": [
       "True"
      ]
     },
     "execution_count": 14,
     "metadata": {},
     "output_type": "execute_result"
    }
   ],
   "source": [
    "x > y"
   ]
  },
  {
   "cell_type": "code",
   "execution_count": 15,
   "id": "e60ac317-fd66-4fb6-b971-13ff4e149dcb",
   "metadata": {},
   "outputs": [
    {
     "data": {
      "text/plain": [
       "False"
      ]
     },
     "execution_count": 15,
     "metadata": {},
     "output_type": "execute_result"
    }
   ],
   "source": [
    "x < y"
   ]
  },
  {
   "cell_type": "code",
   "execution_count": 16,
   "id": "f830b537-0282-4bb5-955f-c28b3626928a",
   "metadata": {},
   "outputs": [
    {
     "data": {
      "text/plain": [
       "False"
      ]
     },
     "execution_count": 16,
     "metadata": {},
     "output_type": "execute_result"
    }
   ],
   "source": [
    "x == y"
   ]
  },
  {
   "cell_type": "code",
   "execution_count": 17,
   "id": "27e825d3-1145-4c5e-88cd-ba5ba9bdf8b7",
   "metadata": {},
   "outputs": [],
   "source": [
    "x = 5"
   ]
  },
  {
   "cell_type": "code",
   "execution_count": 18,
   "id": "ae677955-990c-4346-a1b6-309caf22b595",
   "metadata": {},
   "outputs": [
    {
     "data": {
      "text/plain": [
       "True"
      ]
     },
     "execution_count": 18,
     "metadata": {},
     "output_type": "execute_result"
    }
   ],
   "source": [
    "x >= 1 and x >= 3"
   ]
  },
  {
   "cell_type": "code",
   "execution_count": 20,
   "id": "54c159ad-ca0e-4727-bb11-c4f63c6d3c06",
   "metadata": {},
   "outputs": [
    {
     "data": {
      "text/plain": [
       "True"
      ]
     },
     "execution_count": 20,
     "metadata": {},
     "output_type": "execute_result"
    }
   ],
   "source": [
    "x >= 20 or x <=10"
   ]
  },
  {
   "cell_type": "code",
   "execution_count": 21,
   "id": "93b07cc7-8e29-4172-9c31-f09f54b3fda0",
   "metadata": {},
   "outputs": [
    {
     "data": {
      "text/plain": [
       "False"
      ]
     },
     "execution_count": 21,
     "metadata": {},
     "output_type": "execute_result"
    }
   ],
   "source": [
    "not x <= 10"
   ]
  },
  {
   "cell_type": "code",
   "execution_count": 22,
   "id": "57eb8e8a-0919-4bca-a63c-5e7cffca980b",
   "metadata": {},
   "outputs": [],
   "source": [
    "x = 11\n",
    "y = \"10\""
   ]
  },
  {
   "cell_type": "code",
   "execution_count": 23,
   "id": "9e2cbb3b-6a10-4db4-a179-c76625db43e8",
   "metadata": {},
   "outputs": [
    {
     "ename": "TypeError",
     "evalue": "'>' not supported between instances of 'int' and 'str'",
     "output_type": "error",
     "traceback": [
      "\u001b[0;31m---------------------------------------------------------------------------\u001b[0m",
      "\u001b[0;31mTypeError\u001b[0m                                 Traceback (most recent call last)",
      "\u001b[0;32m<ipython-input-23-8fa1f8e8ebdd>\u001b[0m in \u001b[0;36m<module>\u001b[0;34m\u001b[0m\n\u001b[0;32m----> 1\u001b[0;31m \u001b[0mx\u001b[0m \u001b[0;34m>\u001b[0m \u001b[0my\u001b[0m\u001b[0;34m\u001b[0m\u001b[0;34m\u001b[0m\u001b[0m\n\u001b[0m",
      "\u001b[0;31mTypeError\u001b[0m: '>' not supported between instances of 'int' and 'str'"
     ]
    }
   ],
   "source": [
    "x > y"
   ]
  },
  {
   "cell_type": "code",
   "execution_count": null,
   "id": "98a83df6-97b6-4988-b65b-3e8f1a79ec6d",
   "metadata": {},
   "outputs": [],
   "source": []
  }
 ],
 "metadata": {
  "kernelspec": {
   "display_name": "Python 3",
   "language": "python",
   "name": "python3"
  },
  "language_info": {
   "codemirror_mode": {
    "name": "ipython",
    "version": 3
   },
   "file_extension": ".py",
   "mimetype": "text/x-python",
   "name": "python",
   "nbconvert_exporter": "python",
   "pygments_lexer": "ipython3",
   "version": "3.8.8"
  }
 },
 "nbformat": 4,
 "nbformat_minor": 5
}
